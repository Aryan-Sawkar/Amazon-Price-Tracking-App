{
  "nbformat": 4,
  "nbformat_minor": 0,
  "metadata": {
    "colab": {
      "name": "Untitled0.ipynb",
      "provenance": []
    },
    "kernelspec": {
      "name": "python3",
      "display_name": "Python 3"
    }
  },
  "cells": [
    {
      "cell_type": "code",
      "metadata": {
        "id": "I2yqvWewpAHD",
        "outputId": "b4e8b391-5946-4a03-fe20-bddd0bfe9f3e",
        "colab": {
          "base_uri": "https://localhost:8080/"
        }
      },
      "source": [
        "!pip install requests bs4 "
      ],
      "execution_count": 22,
      "outputs": [
        {
          "output_type": "stream",
          "text": [
            "Requirement already satisfied: requests in /usr/local/lib/python3.6/dist-packages (2.23.0)\n",
            "Requirement already satisfied: bs4 in /usr/local/lib/python3.6/dist-packages (0.0.1)\n",
            "Requirement already satisfied: idna<3,>=2.5 in /usr/local/lib/python3.6/dist-packages (from requests) (2.10)\n",
            "Requirement already satisfied: urllib3!=1.25.0,!=1.25.1,<1.26,>=1.21.1 in /usr/local/lib/python3.6/dist-packages (from requests) (1.24.3)\n",
            "Requirement already satisfied: certifi>=2017.4.17 in /usr/local/lib/python3.6/dist-packages (from requests) (2020.6.20)\n",
            "Requirement already satisfied: chardet<4,>=3.0.2 in /usr/local/lib/python3.6/dist-packages (from requests) (3.0.4)\n",
            "Requirement already satisfied: beautifulsoup4 in /usr/local/lib/python3.6/dist-packages (from bs4) (4.6.3)\n"
          ],
          "name": "stdout"
        }
      ]
    },
    {
      "cell_type": "code",
      "metadata": {
        "id": "aoOiMXFGrfv7"
      },
      "source": [
        "import requests\n",
        "import bs4\n",
        "from bs4 import BeautifulSoup\n",
        "import smtplib\n",
        "import time"
      ],
      "execution_count": 23,
      "outputs": []
    },
    {
      "cell_type": "code",
      "metadata": {
        "id": "DVyJ87nUrwVT",
        "outputId": "78bdc3a5-6d52-47c2-cb58-050f037e5022",
        "colab": {
          "base_uri": "https://localhost:8080/"
        }
      },
      "source": [
        "URL='https://www.amazon.in/Apple-MacBook-Pro-8th-Generation-Intel-Core-i5/dp/B0883KXHG3/ref=sr_1_2_sspa?dchild=1&keywords=macbook&qid=1605523976&sr=8-2-spons&psc=1&spLa=ZW5jcnlwdGVkUXVhbGlmaWVyPUEyN09KTEpBTFVJV0M2JmVuY3J5cHRlZElkPUEwMDk3Mjc1UTVMTkpSVVYzMDE1JmVuY3J5cHRlZEFkSWQ9QTA4MjIzNDExMUxOTjI4UzY4U0oxJndpZGdldE5hbWU9c3BfYXRmJmFjdGlvbj1jbGlja1JlZGlyZWN0JmRvTm90TG9nQ2xpY2s9dHJ1ZQ=='\n",
        "\n",
        "headers={\"User-Agent\":'Mozilla/5.0 (Windows NT 10.0; Win64; x64) AppleWebKit/537.36 (KHTML, like Gecko) Chrome/86.0.4240.198 Safari/537.36'} \n",
        "\n",
        "def check_price():\n",
        "  page=requests.get(URL,headers=headers)\n",
        "\n",
        "  soup=BeautifulSoup(page.content,'html.parser')\n",
        "\n",
        "  title=soup.find(id=\"title\").get_text()\n",
        "  price=soup.find(id=\"priceblock_ourprice\").get_text()\n",
        "  converted_price=float(price[2:10].replace(',',''))\n",
        "\n",
        "  if(converted_price<150000):\n",
        "    send_mail()\n",
        "\n",
        "  print(converted_price)\n",
        "  print(title.strip())\n",
        "\n",
        "\n",
        "def send_mail():\n",
        "  server=smtplib.SMTP('smtp.gmail.com',587)\n",
        "  server.ehlo()\n",
        "  server.starttls()\n",
        "  server.ehlo()\n",
        "\n",
        "  server.login('aryan123sawkar@gmail.com','dqxkunhwocjgcjng')\n",
        "\n",
        "  subject='Price Fell Down!'\n",
        "  Body='Check the Amazon Link https://www.amazon.in/Apple-MacBook-Pro-8th-Generation-Intel-Core-i5/dp/B0883KXHG3/ref=sr_1_2_sspa?dchild=1&keywords=macbook&qid=1605523976&sr=8-2-spons&psc=1&spLa=ZW5jcnlwdGVkUXVhbGlmaWVyPUEyN09KTEpBTFVJV0M2JmVuY3J5cHRlZElkPUEwMDk3Mjc1UTVMTkpSVVYzMDE1JmVuY3J5cHRlZEFkSWQ9QTA4MjIzNDExMUxOTjI4UzY4U0oxJndpZGdldE5hbWU9c3BfYXRmJmFjdGlvbj1jbGlja1JlZGlyZWN0JmRvTm90TG9nQ2xpY2s9dHJ1ZQ=='\n",
        "\n",
        "  msg=f\"Subject: {subject}\\n\\n{Body}\"\n",
        "\n",
        "  server.sendmail(\n",
        "      'aryan123sawkar@gmail.com',\n",
        "      'aryan123sawkar@gmail.com',\n",
        "      msg\n",
        "  )\n",
        "  print('HEY EMAIL HAS BEEN SENT')\n",
        "  server.quit()\n",
        "\n",
        "\n",
        "check_price()\n",
        "\n",
        "\n",
        "\n"
      ],
      "execution_count": 45,
      "outputs": [
        {
          "output_type": "stream",
          "text": [
            "HEY EMAIL HAS BEEN SENT\n",
            "135840.0\n",
            "New Apple MacBook Pro (13-inch, 8GB RAM, 512GB SSD, 1.4GHz Quad-core 8th-Generation Intel Core i5 Processor, Magic Keyboard) - Space Grey\n"
          ],
          "name": "stdout"
        }
      ]
    }
  ]
}